{
 "cells": [
  {
   "cell_type": "code",
   "execution_count": 43,
   "id": "2f2f56bf",
   "metadata": {},
   "outputs": [],
   "source": [
    "import art"
   ]
  },
  {
   "cell_type": "code",
   "execution_count": 44,
   "id": "7268c75f",
   "metadata": {},
   "outputs": [],
   "source": [
    "import pandas "
   ]
  },
  {
   "cell_type": "code",
   "execution_count": 45,
   "id": "cab244d0",
   "metadata": {},
   "outputs": [],
   "source": [
    "df=pd.read_csv('../data/regression/titanic_survived/test.csv')"
   ]
  },
  {
   "cell_type": "code",
   "execution_count": 46,
   "id": "677a2eeb",
   "metadata": {},
   "outputs": [
    {
     "data": {
      "text/html": [
       "<div>\n",
       "<style scoped>\n",
       "    .dataframe tbody tr th:only-of-type {\n",
       "        vertical-align: middle;\n",
       "    }\n",
       "\n",
       "    .dataframe tbody tr th {\n",
       "        vertical-align: top;\n",
       "    }\n",
       "\n",
       "    .dataframe thead th {\n",
       "        text-align: right;\n",
       "    }\n",
       "</style>\n",
       "<table border=\"1\" class=\"dataframe\">\n",
       "  <thead>\n",
       "    <tr style=\"text-align: right;\">\n",
       "      <th></th>\n",
       "      <th>PassengerId</th>\n",
       "      <th>Pclass</th>\n",
       "      <th>Name</th>\n",
       "      <th>Sex</th>\n",
       "      <th>Age</th>\n",
       "      <th>SibSp</th>\n",
       "      <th>Parch</th>\n",
       "      <th>Ticket</th>\n",
       "      <th>Fare</th>\n",
       "      <th>Cabin</th>\n",
       "      <th>Embarked</th>\n",
       "    </tr>\n",
       "  </thead>\n",
       "  <tbody>\n",
       "    <tr>\n",
       "      <th>0</th>\n",
       "      <td>892</td>\n",
       "      <td>3</td>\n",
       "      <td>Kelly, Mr. James</td>\n",
       "      <td>male</td>\n",
       "      <td>34.5</td>\n",
       "      <td>0</td>\n",
       "      <td>0</td>\n",
       "      <td>330911</td>\n",
       "      <td>7.8292</td>\n",
       "      <td>NaN</td>\n",
       "      <td>Q</td>\n",
       "    </tr>\n",
       "    <tr>\n",
       "      <th>1</th>\n",
       "      <td>893</td>\n",
       "      <td>3</td>\n",
       "      <td>Wilkes, Mrs. James (Ellen Needs)</td>\n",
       "      <td>female</td>\n",
       "      <td>47.0</td>\n",
       "      <td>1</td>\n",
       "      <td>0</td>\n",
       "      <td>363272</td>\n",
       "      <td>7.0000</td>\n",
       "      <td>NaN</td>\n",
       "      <td>S</td>\n",
       "    </tr>\n",
       "    <tr>\n",
       "      <th>2</th>\n",
       "      <td>894</td>\n",
       "      <td>2</td>\n",
       "      <td>Myles, Mr. Thomas Francis</td>\n",
       "      <td>male</td>\n",
       "      <td>62.0</td>\n",
       "      <td>0</td>\n",
       "      <td>0</td>\n",
       "      <td>240276</td>\n",
       "      <td>9.6875</td>\n",
       "      <td>NaN</td>\n",
       "      <td>Q</td>\n",
       "    </tr>\n",
       "    <tr>\n",
       "      <th>3</th>\n",
       "      <td>895</td>\n",
       "      <td>3</td>\n",
       "      <td>Wirz, Mr. Albert</td>\n",
       "      <td>male</td>\n",
       "      <td>27.0</td>\n",
       "      <td>0</td>\n",
       "      <td>0</td>\n",
       "      <td>315154</td>\n",
       "      <td>8.6625</td>\n",
       "      <td>NaN</td>\n",
       "      <td>S</td>\n",
       "    </tr>\n",
       "    <tr>\n",
       "      <th>4</th>\n",
       "      <td>896</td>\n",
       "      <td>3</td>\n",
       "      <td>Hirvonen, Mrs. Alexander (Helga E Lindqvist)</td>\n",
       "      <td>female</td>\n",
       "      <td>22.0</td>\n",
       "      <td>1</td>\n",
       "      <td>1</td>\n",
       "      <td>3101298</td>\n",
       "      <td>12.2875</td>\n",
       "      <td>NaN</td>\n",
       "      <td>S</td>\n",
       "    </tr>\n",
       "  </tbody>\n",
       "</table>\n",
       "</div>"
      ],
      "text/plain": [
       "   PassengerId  Pclass                                          Name     Sex  \\\n",
       "0          892       3                              Kelly, Mr. James    male   \n",
       "1          893       3              Wilkes, Mrs. James (Ellen Needs)  female   \n",
       "2          894       2                     Myles, Mr. Thomas Francis    male   \n",
       "3          895       3                              Wirz, Mr. Albert    male   \n",
       "4          896       3  Hirvonen, Mrs. Alexander (Helga E Lindqvist)  female   \n",
       "\n",
       "    Age  SibSp  Parch   Ticket     Fare Cabin Embarked  \n",
       "0  34.5      0      0   330911   7.8292   NaN        Q  \n",
       "1  47.0      1      0   363272   7.0000   NaN        S  \n",
       "2  62.0      0      0   240276   9.6875   NaN        Q  \n",
       "3  27.0      0      0   315154   8.6625   NaN        S  \n",
       "4  22.0      1      1  3101298  12.2875   NaN        S  "
      ]
     },
     "execution_count": 46,
     "metadata": {},
     "output_type": "execute_result"
    }
   ],
   "source": [
    "df.head()"
   ]
  },
  {
   "cell_type": "code",
   "execution_count": 47,
   "id": "c431d6a7",
   "metadata": {},
   "outputs": [],
   "source": [
    "f1=art.common(df)"
   ]
  },
  {
   "cell_type": "code",
   "execution_count": 48,
   "id": "e9359217",
   "metadata": {},
   "outputs": [
    {
     "name": "stdout",
     "output_type": "stream",
     "text": [
      "<bound method common.features of <class 'art.common'>>\n"
     ]
    }
   ],
   "source": [
    "print(f1.features)"
   ]
  },
  {
   "cell_type": "code",
   "execution_count": 49,
   "id": "e073bce8",
   "metadata": {},
   "outputs": [
    {
     "data": {
      "text/plain": [
       "<bound method common.features of <class 'art.common'>>"
      ]
     },
     "execution_count": 49,
     "metadata": {},
     "output_type": "execute_result"
    }
   ],
   "source": [
    "f1.features"
   ]
  },
  {
   "cell_type": "code",
   "execution_count": 50,
   "id": "2efb0c61",
   "metadata": {},
   "outputs": [],
   "source": [
    "import reg1"
   ]
  },
  {
   "cell_type": "code",
   "execution_count": 51,
   "id": "54c19652",
   "metadata": {},
   "outputs": [
    {
     "ename": "AttributeError",
     "evalue": "type object 'common' has no attribute 'df'",
     "output_type": "error",
     "traceback": [
      "\u001b[0;31m---------------------------------------------------------------------------\u001b[0m",
      "\u001b[0;31mAttributeError\u001b[0m                            Traceback (most recent call last)",
      "\u001b[0;32m/tmp/ipykernel_3761/3774411916.py\u001b[0m in \u001b[0;36m<module>\u001b[0;34m\u001b[0m\n\u001b[0;32m----> 1\u001b[0;31m \u001b[0mf1\u001b[0m\u001b[0;34m.\u001b[0m\u001b[0mfeatures\u001b[0m\u001b[0;34m(\u001b[0m\u001b[0;34m)\u001b[0m\u001b[0;34m\u001b[0m\u001b[0;34m\u001b[0m\u001b[0m\n\u001b[0m",
      "\u001b[0;32m~/Desktop/machine_learning/Artif-libs/art.py\u001b[0m in \u001b[0;36mfeatures\u001b[0;34m(self, numeric, object, datetime)\u001b[0m\n\u001b[1;32m     14\u001b[0m         \u001b[0mdf1\u001b[0m\u001b[0;34m=\u001b[0m\u001b[0mpd\u001b[0m\u001b[0;34m.\u001b[0m\u001b[0mDataFrame\u001b[0m\u001b[0;34m(\u001b[0m\u001b[0;34m)\u001b[0m\u001b[0;34m\u001b[0m\u001b[0;34m\u001b[0m\u001b[0m\n\u001b[1;32m     15\u001b[0m         \u001b[0mself\u001b[0m\u001b[0;34m.\u001b[0m\u001b[0mfeatures\u001b[0m\u001b[0;34m=\u001b[0m\u001b[0mnp\u001b[0m\u001b[0;34m.\u001b[0m\u001b[0marray\u001b[0m\u001b[0;34m(\u001b[0m\u001b[0mdf\u001b[0m\u001b[0;34m.\u001b[0m\u001b[0mcolumns\u001b[0m\u001b[0;34m)\u001b[0m\u001b[0;34m\u001b[0m\u001b[0;34m\u001b[0m\u001b[0m\n\u001b[0;32m---> 16\u001b[0;31m         \u001b[0;31m# if numeric :\u001b[0m\u001b[0;34m\u001b[0m\u001b[0;34m\u001b[0m\u001b[0m\n\u001b[0m\u001b[1;32m     17\u001b[0m         \u001b[0;31m#     s = (self.df.dtypes != 'object'  )\u001b[0m\u001b[0;34m\u001b[0m\u001b[0;34m\u001b[0m\u001b[0m\n\u001b[1;32m     18\u001b[0m         \u001b[0;31m#     self.features = np.array(s[s].index)\u001b[0m\u001b[0;34m\u001b[0m\u001b[0;34m\u001b[0m\u001b[0m\n",
      "\u001b[0;31mAttributeError\u001b[0m: type object 'common' has no attribute 'df'"
     ]
    }
   ],
   "source": [
    "f1.features()"
   ]
  },
  {
   "cell_type": "code",
   "execution_count": 71,
   "id": "2ab7cf14",
   "metadata": {},
   "outputs": [],
   "source": [
    "# external libs for use \n",
    "from abc import abstractmethod\n",
    "import pandas as pd\n",
    "import numpy as np\n",
    "import seaborn as sns\n",
    "import matplotlib.pyplot as plt\n",
    "\n",
    "\n",
    "class common():\n",
    "    def __init__(self,df,**kwargs):\n",
    "        self.df=df\n",
    "    \n",
    "    def features(self,num_col=True,obj_col=False,dt_col=False):\n",
    "        df1=pd.DataFrame()\n",
    "        self.features=np.array(df.columns.tolist())\n",
    "        if num_col :\n",
    "            s = (self.df.dtypes != 'object'  )\n",
    "            self.features = np.array(s[s].index) \n",
    "        if obj_col :\n",
    "            s = (self.df.dtypes == 'object' ) \n",
    "            self.features = np.array(s[s].index) \n",
    "        if dt_col :\n",
    "            s = (self.df.dtypes == 'datetime64' ) \n",
    "            self.features = np.array(s[s].index) \n",
    "\n",
    "        df1['featues']=self.features  \n",
    "        df1['count']=list(map(lambda x : self.df[x].count(),self.features))\n",
    "        df1['null_values']=list(map(lambda x :self.df[x].isnull().sum(),self.features))\n",
    "        df1['uniques']=list(map(lambda x :len(self.df[x].unique()),self.features))\n",
    "        df1['values']=list(map(lambda x : self.df[x].unique() if len(self.df[x].unique()) < 10 else 'large spread', self.features))\n",
    "        df1['value_counts']=list(map(lambda x : self.df[x].value_counts().values  if len(self.df[x].unique()) < 10 else 'large spread',self.features ))\n",
    "        return df1\n",
    "    \n",
    "    \n",
    "    def features_plot(self,plot_type):\n",
    "        if plot_type=='correlation' :\n",
    "            plt.subplots(figsize = (30, 20))\n",
    "            sns.heatmap(self.df.corr(),annot = True,center = 0)\n",
    "\n",
    "        "
   ]
  },
  {
   "cell_type": "code",
   "execution_count": 72,
   "id": "91240ef4",
   "metadata": {},
   "outputs": [],
   "source": [
    "f2=common(df)"
   ]
  },
  {
   "cell_type": "code",
   "execution_count": 74,
   "id": "46489542",
   "metadata": {},
   "outputs": [
    {
     "data": {
      "text/html": [
       "<div>\n",
       "<style scoped>\n",
       "    .dataframe tbody tr th:only-of-type {\n",
       "        vertical-align: middle;\n",
       "    }\n",
       "\n",
       "    .dataframe tbody tr th {\n",
       "        vertical-align: top;\n",
       "    }\n",
       "\n",
       "    .dataframe thead th {\n",
       "        text-align: right;\n",
       "    }\n",
       "</style>\n",
       "<table border=\"1\" class=\"dataframe\">\n",
       "  <thead>\n",
       "    <tr style=\"text-align: right;\">\n",
       "      <th></th>\n",
       "      <th>featues</th>\n",
       "      <th>count</th>\n",
       "      <th>null_values</th>\n",
       "      <th>uniques</th>\n",
       "      <th>values</th>\n",
       "      <th>value_counts</th>\n",
       "    </tr>\n",
       "  </thead>\n",
       "  <tbody>\n",
       "    <tr>\n",
       "      <th>0</th>\n",
       "      <td>Name</td>\n",
       "      <td>418</td>\n",
       "      <td>0</td>\n",
       "      <td>418</td>\n",
       "      <td>large spread</td>\n",
       "      <td>large spread</td>\n",
       "    </tr>\n",
       "    <tr>\n",
       "      <th>1</th>\n",
       "      <td>Sex</td>\n",
       "      <td>418</td>\n",
       "      <td>0</td>\n",
       "      <td>2</td>\n",
       "      <td>[male, female]</td>\n",
       "      <td>[266, 152]</td>\n",
       "    </tr>\n",
       "    <tr>\n",
       "      <th>2</th>\n",
       "      <td>Ticket</td>\n",
       "      <td>418</td>\n",
       "      <td>0</td>\n",
       "      <td>363</td>\n",
       "      <td>large spread</td>\n",
       "      <td>large spread</td>\n",
       "    </tr>\n",
       "    <tr>\n",
       "      <th>3</th>\n",
       "      <td>Cabin</td>\n",
       "      <td>91</td>\n",
       "      <td>327</td>\n",
       "      <td>77</td>\n",
       "      <td>large spread</td>\n",
       "      <td>large spread</td>\n",
       "    </tr>\n",
       "    <tr>\n",
       "      <th>4</th>\n",
       "      <td>Embarked</td>\n",
       "      <td>418</td>\n",
       "      <td>0</td>\n",
       "      <td>3</td>\n",
       "      <td>[Q, S, C]</td>\n",
       "      <td>[270, 102, 46]</td>\n",
       "    </tr>\n",
       "  </tbody>\n",
       "</table>\n",
       "</div>"
      ],
      "text/plain": [
       "    featues  count  null_values  uniques          values    value_counts\n",
       "0      Name    418            0      418    large spread    large spread\n",
       "1       Sex    418            0        2  [male, female]      [266, 152]\n",
       "2    Ticket    418            0      363    large spread    large spread\n",
       "3     Cabin     91          327       77    large spread    large spread\n",
       "4  Embarked    418            0        3       [Q, S, C]  [270, 102, 46]"
      ]
     },
     "execution_count": 74,
     "metadata": {},
     "output_type": "execute_result"
    }
   ],
   "source": [
    "f2.features(num_col=False,obj_col=True)"
   ]
  },
  {
   "cell_type": "code",
   "execution_count": null,
   "id": "c4f70fed",
   "metadata": {},
   "outputs": [],
   "source": []
  }
 ],
 "metadata": {
  "kernelspec": {
   "display_name": "Python 3 (ipykernel)",
   "language": "python",
   "name": "python3"
  },
  "language_info": {
   "codemirror_mode": {
    "name": "ipython",
    "version": 3
   },
   "file_extension": ".py",
   "mimetype": "text/x-python",
   "name": "python",
   "nbconvert_exporter": "python",
   "pygments_lexer": "ipython3",
   "version": "3.9.9"
  }
 },
 "nbformat": 4,
 "nbformat_minor": 5
}
